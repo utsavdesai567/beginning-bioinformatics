{
  "cells": [
    {
      "cell_type": "markdown",
      "metadata": {
        "id": "JFuHctKOFsbz"
      },
      "source": [
        "# **Bioinformatics Module 03 – Colab Notebook**\n",
        "\n",
        "Utsav Desai + 1002240489+ + BIOL5340-001\n",
        "\n",
        "This notebook accompanies the GitHub repo for Week 3."
      ]
    },
    {
      "cell_type": "markdown",
      "metadata": {
        "id": "3yzyG0dGF_rD"
      },
      "source": [
        "## P6 – input()\n",
        "Example tasks with input and output."
      ]
    },
    {
      "cell_type": "code",
      "execution_count": 3,
      "metadata": {
        "colab": {
          "base_uri": "https://localhost:8080/"
        },
        "id": "UMB-E0MCFkJw",
        "outputId": "3dc1ea63-fc2a-4a69-b14f-0e22a75cfd46"
      },
      "outputs": [
        {
          "name": "stdout",
          "output_type": "stream",
          "text": [
            "Hello Utsav\n"
          ]
        }
      ],
      "source": [
        "# P6.1\n",
        "name = input('Enter your name: ')\n",
        "print('Hello', name)"
      ]
    },
    {
      "cell_type": "code",
      "execution_count": 4,
      "metadata": {
        "colab": {
          "base_uri": "https://localhost:8080/"
        },
        "id": "xzas_kCmGzhq",
        "outputId": "b62f2522-7242-42f5-f966-8c9556bc7d1f"
      },
      "outputs": [
        {
          "name": "stdout",
          "output_type": "stream",
          "text": [
            "1570621\n"
          ]
        }
      ],
      "source": [
        "# P6.2\n",
        "a, b = map(int, input().split())\n",
        "print(a*a + b*b)"
      ]
    },
    {
      "cell_type": "markdown",
      "metadata": {
        "id": "TOsjpR3_GZwp"
      },
      "source": [
        "## P7 – Lists"
      ]
    },
    {
      "cell_type": "code",
      "execution_count": 5,
      "metadata": {
        "colab": {
          "base_uri": "https://localhost:8080/"
        },
        "id": "XEW5ZJDLGdsc",
        "outputId": "c4ab5a5d-124e-4f68-a2bf-1d72eadae977"
      },
      "outputs": [
        {
          "name": "stdout",
          "output_type": "stream",
          "text": [
            "World\n"
          ]
        }
      ],
      "source": [
        "# P7.1\n",
        "my_list = ['Hello', 'World', 'Charles Darwin']\n",
        "print(my_list[1])"
      ]
    },
    {
      "cell_type": "code",
      "execution_count": 6,
      "metadata": {
        "colab": {
          "base_uri": "https://localhost:8080/"
        },
        "id": "ij9dRznAHH1k",
        "outputId": "0239dddf-74b1-4663-aadb-0112a17cac97"
      },
      "outputs": [
        {
          "name": "stdout",
          "output_type": "stream",
          "text": [
            "['Hello', 'World', 'Alfred R. Wallace']\n"
          ]
        }
      ],
      "source": [
        "# P7.2\n",
        "my_list[2] = 'Alfred R. Wallace'\n",
        "print(my_list)"
      ]
    },
    {
      "cell_type": "code",
      "execution_count": 7,
      "metadata": {
        "colab": {
          "base_uri": "https://localhost:8080/"
        },
        "id": "57xDhVjDHNhk",
        "outputId": "03367ea8-c510-4acb-90f7-9bf12555ee2b"
      },
      "outputs": [
        {
          "name": "stdout",
          "output_type": "stream",
          "text": [
            "['Hello', 'World', 'Alfred R. Wallace', 'Bioinformatics']\n"
          ]
        }
      ],
      "source": [
        "# P7.3\n",
        "my_list.append('Bioinformatics')\n",
        "print(my_list)"
      ]
    },
    {
      "cell_type": "code",
      "execution_count": 8,
      "metadata": {
        "colab": {
          "base_uri": "https://localhost:8080/"
        },
        "id": "-aCApwtZHR2N",
        "outputId": "26566e1b-e992-4f0e-a4f9-d27cb6b9958f"
      },
      "outputs": [
        {
          "name": "stdout",
          "output_type": "stream",
          "text": [
            "['Hello', 'Inserted Item', 'World', 'Alfred R. Wallace', 'Bioinformatics']\n"
          ]
        }
      ],
      "source": [
        "# P7.4\n",
        "my_list.insert(1, \"Inserted Item\")\n",
        "print(my_list)\n"
      ]
    },
    {
      "cell_type": "markdown",
      "metadata": {
        "id": "H3YRA1InIjRu"
      },
      "source": [
        "## P8 – Lists"
      ]
    },
    {
      "cell_type": "code",
      "execution_count": null,
      "metadata": {
        "colab": {
          "base_uri": "https://localhost:8080/"
        },
        "id": "8iAN9-MiIk7k",
        "outputId": "9a850daf-8d8b-4d1d-dbb9-52b12318df48"
      },
      "outputs": [
        {
          "name": "stdout",
          "output_type": "stream",
          "text": [
            "Hello World\n"
          ]
        }
      ],
      "source": [
        "# P8.1\n",
        "my_string = \"HelloWorldCharlesDarwinAlfred R. Wallace\"\n",
        "\n",
        "# Slice \"Hello World\"\n",
        "print(my_string[0:5], my_string[5:10])\n",
        "# Output: Hello World\n"
      ]
    },
    {
      "cell_type": "code",
      "execution_count": 15,
      "metadata": {
        "colab": {
          "base_uri": "https://localhost:8080/"
        },
        "id": "2vsfVlf1I1_d",
        "outputId": "e6ab54a2-8de9-45b2-8ccf-4a660d492ab3"
      },
      "outputs": [
        {
          "name": "stdout",
          "output_type": "stream",
          "text": [
            "Wallace World\n"
          ]
        }
      ],
      "source": [
        "# P8.2\n",
        "# Slice Wallace (from 33 to the end)\n",
        "part1 = my_string[33:]\n",
        "\n",
        "# Slice World (index 5 to 10)\n",
        "part2 = my_string[5:10]\n",
        "\n",
        "print(part1, part2)\n",
        "# Output: Wallace World\n"
      ]
    },
    {
      "cell_type": "code",
      "execution_count": 22,
      "metadata": {},
      "outputs": [
        {
          "name": "stdout",
          "output_type": "stream",
          "text": [
            "Cypselus truncatus\n"
          ]
        }
      ],
      "source": [
        "# P8.3\n",
        "# read input\n",
        "s = input().strip()\n",
        "a, b, c, d = map(int, input().split())\n",
        "\n",
        "# slice the string and include both ends\n",
        "part1 = s[a:b+1]\n",
        "part2 = s[c:d+1]\n",
        "\n",
        "# print with space in between\n",
        "print(part1, part2)\n"
      ]
    },
    {
      "cell_type": "markdown",
      "metadata": {},
      "source": [
        "## P9– Lists"
      ]
    },
    {
      "cell_type": "code",
      "execution_count": 13,
      "metadata": {
        "id": "63edwhJ3I5xd"
      },
      "outputs": [
        {
          "name": "stdout",
          "output_type": "stream",
          "text": [
            "Result: 5\n"
          ]
        }
      ],
      "source": [
        "# P9.1\n",
        "# two numbers\n",
        "a = 10\n",
        "b = 5\n",
        "\n",
        "# check condition\n",
        "if a == b:\n",
        "    result = a + b\n",
        "else:\n",
        "    result = a - b\n",
        "\n",
        "print(\"Result:\", result)\n"
      ]
    },
    {
      "cell_type": "code",
      "execution_count": 17,
      "metadata": {},
      "outputs": [
        {
          "name": "stdout",
          "output_type": "stream",
          "text": [
            "Counting!\n",
            "Counting!Counting!\n",
            "Counting!Counting!Counting!\n"
          ]
        }
      ],
      "source": [
        "# P10.1\n",
        "# while loop that runs 3 times\n",
        "a = 1\n",
        "while a <= 3:\n",
        "    print(\"Counting!\" * a)\n",
        "    a += 1   # very important, prevents infinite loop\n"
      ]
    },
    {
      "cell_type": "code",
      "execution_count": 18,
      "metadata": {},
      "outputs": [
        {
          "name": "stdout",
          "output_type": "stream",
          "text": [
            "Hello Alice\n",
            "Hello Bob\n",
            "Hello Charlie\n"
          ]
        }
      ],
      "source": [
        "# P11.1\n",
        "# list of names\n",
        "names = [\"Alice\", \"Bob\", \"Charlie\"]\n",
        "\n",
        "# loop over the list\n",
        "for name in names:\n",
        "    print(\"Hello\", name)\n"
      ]
    },
    {
      "cell_type": "code",
      "execution_count": 19,
      "metadata": {},
      "outputs": [
        {
          "name": "stdout",
          "output_type": "stream",
          "text": [
            "0\n",
            "1\n",
            "2\n",
            "3\n",
            "4\n",
            "5\n",
            "6\n",
            "7\n",
            "8\n",
            "9\n"
          ]
        }
      ],
      "source": [
        "# P12.1\n",
        "iterations = 10\n",
        "\n",
        "for number in range(iterations):\n",
        "    print(number)\n"
      ]
    },
    {
      "cell_type": "code",
      "execution_count": 20,
      "metadata": {},
      "outputs": [
        {
          "name": "stdout",
          "output_type": "stream",
          "text": [
            "9\n",
            "12\n",
            "15\n",
            "18\n",
            "21\n",
            "24\n",
            "27\n"
          ]
        }
      ],
      "source": [
        "# P12.2\n",
        "for number in range(9, 28, 3):\n",
        "    print(number)\n"
      ]
    },
    {
      "cell_type": "code",
      "execution_count": 21,
      "metadata": {},
      "outputs": [
        {
          "name": "stdout",
          "output_type": "stream",
          "text": [
            "13239600\n"
          ]
        }
      ],
      "source": [
        "# P12.3 Rosalind Problem #3 Conditions and Loops\n",
        "# read input\n",
        "a, b = map(int, input().split())\n",
        "\n",
        "# sum of odd numbers\n",
        "total = 0\n",
        "for n in range(a, b + 1):\n",
        "    if n % 2 == 1:   # check if odd\n",
        "        total += n\n",
        "\n",
        "print(total)\n"
      ]
    },
    {
      "cell_type": "code",
      "execution_count": 31,
      "metadata": {},
      "outputs": [
        {
          "name": "stdout",
          "output_type": "stream",
          "text": [
            "=== P13.1 read() output ===\n",
            "Bravely bold Sir Robin rode forth from Camelot\n",
            "Yes, brave Sir Robin turned about\n",
            "He was not afraid to die, O brave Sir Robin\n",
            "And gallantly he chickened out\n",
            "He was not at all afraid to be killed in nasty ways\n",
            "Bravely talking to his feet\n",
            "Brave, brave, brave, brave Sir Robin\n",
            "He beat a very brave retreat\n"
          ]
        }
      ],
      "source": [
        "# P13.1\n",
        "with open(\"content/practice.txt\", \"r\") as data:\n",
        "    whole = data.read()\n",
        "    print(\"=== P13.1 read() output ===\")\n",
        "    print(whole)"
      ]
    },
    {
      "cell_type": "code",
      "execution_count": 32,
      "metadata": {},
      "outputs": [
        {
          "name": "stdout",
          "output_type": "stream",
          "text": [
            "\n",
            "=== P13.2 sequence outputs ===\n",
            "[read()] -> 'Bravely bold Sir Robin rode forth from C...'\n",
            "[readline()] -> ''\n",
            "[readlines()] -> []\n"
          ]
        }
      ],
      "source": [
        "# P13.2\n",
        "with open(\"content/practice.txt\", \"r\") as data:\n",
        "    print(\"\\n=== P13.2 sequence outputs ===\")\n",
        "    first = data.read()        # consumes entire file\n",
        "    print(\"[read()] ->\", repr(first[:40] + (\"...\" if len(first) > 40 else \"\")))\n",
        "    second = data.readline()   # now at EOF -> empty string\n",
        "    print(\"[readline()] ->\", repr(second))\n",
        "    third = data.readlines()   # still EOF -> empty list\n",
        "    print(\"[readlines()] ->\", repr(third))"
      ]
    },
    {
      "cell_type": "code",
      "execution_count": 33,
      "metadata": {},
      "outputs": [
        {
          "name": "stdout",
          "output_type": "stream",
          "text": [
            "\n",
            "=== P14.1 joined output (original formatting) ===\n",
            "Bravely bold Sir Robin rode forth from Camelot\n",
            "Yes, brave Sir Robin turned about\n",
            "He was not afraid to die, O brave Sir Robin\n",
            "And gallantly he chickened out\n",
            "He was not at all afraid to be killed in nasty ways\n",
            "Bravely talking to his feet\n",
            "Brave, brave, brave, brave Sir Robin\n",
            "He beat a very brave retreat\n"
          ]
        }
      ],
      "source": [
        "# P14.1\n",
        "with open(\"content/practice.txt\", \"r\") as data:\n",
        "    list_of_lines = data.readlines()   # list of strings with trailing '\\n'\n",
        "\n",
        "# File is closed here; we can still use list_of_lines\n",
        "print(\"\\n=== P14.1 joined output (original formatting) ===\")\n",
        "print(\"\".join(list_of_lines))          # prints exactly like the input"
      ]
    },
    {
      "cell_type": "code",
      "execution_count": 34,
      "metadata": {},
      "outputs": [
        {
          "name": "stdout",
          "output_type": "stream",
          "text": [
            "Bravely bold Sir Robin rode forth from Camelot\n",
            "Yes, brave Sir Robin turned about\n",
            "He was not afraid to die, O brave Sir Robin\n",
            "And gallantly he chickened out\n",
            "He was not at all afraid to be killed in nasty ways\n",
            "Bravely talking to his feet\n",
            "Brave, brave, brave, brave Sir Robin\n",
            "He beat a very brave retreat\n"
          ]
        }
      ],
      "source": [
        "# P15.1\n",
        "with open(\"content/practice.txt\", \"r\") as data:\n",
        "    for line in data:\n",
        "        # remove the extra newline at the end of each line\n",
        "        print(line.rstrip())"
      ]
    },
    {
      "cell_type": "code",
      "execution_count": 36,
      "metadata": {},
      "outputs": [],
      "source": [
        "# P15.2\n",
        "# open input file for reading\n",
        "with open(\"input.txt\", \"r\") as f:\n",
        "    lines = f.readlines()\n",
        "\n",
        "# pick only even-numbered lines (1-based → index 1, 3, 5, …)\n",
        "even_lines = [lines[i] for i in range(1, len(lines), 2)]\n",
        "\n",
        "# write them to output.txt\n",
        "with open(\"output.txt\", \"w\") as f:\n",
        "    f.writelines(even_lines)\n"
      ]
    },
    {
      "cell_type": "code",
      "execution_count": null,
      "metadata": {},
      "outputs": [],
      "source": []
    }
  ],
  "metadata": {
    "colab": {
      "provenance": []
    },
    "kernelspec": {
      "display_name": "Python 3",
      "name": "python3"
    },
    "language_info": {
      "codemirror_mode": {
        "name": "ipython",
        "version": 3
      },
      "file_extension": ".py",
      "mimetype": "text/x-python",
      "name": "python",
      "nbconvert_exporter": "python",
      "pygments_lexer": "ipython3",
      "version": "3.13.1"
    }
  },
  "nbformat": 4,
  "nbformat_minor": 0
}
