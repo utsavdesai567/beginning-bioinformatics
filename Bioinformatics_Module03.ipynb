{
  "nbformat": 4,
  "nbformat_minor": 0,
  "metadata": {
    "colab": {
      "provenance": []
    },
    "kernelspec": {
      "name": "python3",
      "display_name": "Python 3"
    },
    "language_info": {
      "name": "python"
    }
  },
  "cells": [
    {
      "cell_type": "markdown",
      "source": [
        "# **Bioinformatics Module 03 – Colab Notebook**\n",
        "\n",
        "Utsav Desai + 1002240489+ + BIOL5340-001\n",
        "\n",
        "This notebook accompanies the GitHub repo for Week 3."
      ],
      "metadata": {
        "id": "JFuHctKOFsbz"
      }
    },
    {
      "cell_type": "markdown",
      "source": [
        "## P6 – input()\n",
        "Example tasks with input and output."
      ],
      "metadata": {
        "id": "3yzyG0dGF_rD"
      }
    },
    {
      "cell_type": "code",
      "execution_count": 6,
      "metadata": {
        "colab": {
          "base_uri": "https://localhost:8080/"
        },
        "id": "UMB-E0MCFkJw",
        "outputId": "3dc1ea63-fc2a-4a69-b14f-0e22a75cfd46"
      },
      "outputs": [
        {
          "output_type": "stream",
          "name": "stdout",
          "text": [
            "Enter your name: Utsav\n",
            "Hello Utsav\n"
          ]
        }
      ],
      "source": [
        "# P6.1\n",
        "name = input('Enter your name: ')\n",
        "print('Hello', name)"
      ]
    },
    {
      "cell_type": "code",
      "source": [
        "# P6.2\n",
        "a, b = map(int, input().split())\n",
        "print(a*a + b*b)"
      ],
      "metadata": {
        "colab": {
          "base_uri": "https://localhost:8080/"
        },
        "id": "xzas_kCmGzhq",
        "outputId": "b62f2522-7242-42f5-f966-8c9556bc7d1f"
      },
      "execution_count": 7,
      "outputs": [
        {
          "output_type": "stream",
          "name": "stdout",
          "text": [
            "830 939\n",
            "1570621\n"
          ]
        }
      ]
    },
    {
      "cell_type": "markdown",
      "source": [
        "## P7 – Lists"
      ],
      "metadata": {
        "id": "TOsjpR3_GZwp"
      }
    },
    {
      "cell_type": "code",
      "source": [
        "# P7.1\n",
        "my_list = ['Hello', 'World', 'Charles Darwin']\n",
        "print(my_list[1])"
      ],
      "metadata": {
        "colab": {
          "base_uri": "https://localhost:8080/"
        },
        "id": "XEW5ZJDLGdsc",
        "outputId": "c4ab5a5d-124e-4f68-a2bf-1d72eadae977"
      },
      "execution_count": 8,
      "outputs": [
        {
          "output_type": "stream",
          "name": "stdout",
          "text": [
            "World\n"
          ]
        }
      ]
    },
    {
      "cell_type": "code",
      "source": [
        "# P7.2\n",
        "my_list[2] = 'Alfred R. Wallace'\n",
        "print(my_list)"
      ],
      "metadata": {
        "colab": {
          "base_uri": "https://localhost:8080/"
        },
        "id": "ij9dRznAHH1k",
        "outputId": "0239dddf-74b1-4663-aadb-0112a17cac97"
      },
      "execution_count": 10,
      "outputs": [
        {
          "output_type": "stream",
          "name": "stdout",
          "text": [
            "['Hello', 'World', 'Alfred R. Wallace']\n"
          ]
        }
      ]
    },
    {
      "cell_type": "code",
      "source": [
        "# P7.3\n",
        "my_list.append('Bioinformatics')\n",
        "print(my_list)"
      ],
      "metadata": {
        "colab": {
          "base_uri": "https://localhost:8080/"
        },
        "id": "57xDhVjDHNhk",
        "outputId": "03367ea8-c510-4acb-90f7-9bf12555ee2b"
      },
      "execution_count": 11,
      "outputs": [
        {
          "output_type": "stream",
          "name": "stdout",
          "text": [
            "['Hello', 'World', 'Alfred R. Wallace', 'Bioinformatics']\n"
          ]
        }
      ]
    },
    {
      "cell_type": "code",
      "source": [
        "# P7.4\n",
        "my_list.insert(1, \"Inserted Item\")\n",
        "print(my_list)\n"
      ],
      "metadata": {
        "colab": {
          "base_uri": "https://localhost:8080/"
        },
        "id": "-aCApwtZHR2N",
        "outputId": "26566e1b-e992-4f0e-a4f9-d27cb6b9958f"
      },
      "execution_count": 12,
      "outputs": [
        {
          "output_type": "stream",
          "name": "stdout",
          "text": [
            "['Hello', 'Inserted Item', 'World', 'Alfred R. Wallace', 'Bioinformatics']\n"
          ]
        }
      ]
    },
    {
      "cell_type": "markdown",
      "source": [
        "## P8 – Lists"
      ],
      "metadata": {
        "id": "H3YRA1InIjRu"
      }
    },
    {
      "cell_type": "code",
      "source": [
        "# P8.1\n",
        "my_string = \"HelloWorldCharlesDarwinAlfred R. Wallace\"\n",
        "\n",
        "# Slice \"Hello World\"\n",
        "print(my_string[0:5], my_string[5:10])\n",
        "# Output: Hello World\n"
      ],
      "metadata": {
        "colab": {
          "base_uri": "https://localhost:8080/"
        },
        "id": "8iAN9-MiIk7k",
        "outputId": "9a850daf-8d8b-4d1d-dbb9-52b12318df48"
      },
      "execution_count": 14,
      "outputs": [
        {
          "output_type": "stream",
          "name": "stdout",
          "text": [
            "Hello World\n"
          ]
        }
      ]
    },
    {
      "cell_type": "code",
      "source": [
        "# P8.2\n",
        "# Slice Wallace (from 33 to the end)\n",
        "part1 = my_string[33:]\n",
        "\n",
        "# Slice World (index 5 to 10)\n",
        "part2 = my_string[5:10]\n",
        "\n",
        "print(part1, part2)\n",
        "# Output: Wallace World\n"
      ],
      "metadata": {
        "colab": {
          "base_uri": "https://localhost:8080/"
        },
        "id": "2vsfVlf1I1_d",
        "outputId": "e6ab54a2-8de9-45b2-8ccf-4a660d492ab3"
      },
      "execution_count": 15,
      "outputs": [
        {
          "output_type": "stream",
          "name": "stdout",
          "text": [
            "Wallace World\n"
          ]
        }
      ]
    },
    {
      "cell_type": "code",
      "source": [],
      "metadata": {
        "id": "63edwhJ3I5xd"
      },
      "execution_count": null,
      "outputs": []
    }
  ]
}