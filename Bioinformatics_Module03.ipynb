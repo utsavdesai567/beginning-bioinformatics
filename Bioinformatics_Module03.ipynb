{
  "cells": [
    {
      "cell_type": "markdown",
      "metadata": {
        "id": "JFuHctKOFsbz"
      },
      "source": [
        "# **Bioinformatics Module 03 – Colab Notebook**\n",
        "\n",
        "Utsav Desai + 1002240489+ + BIOL5340-001\n",
        "\n",
        "This notebook accompanies the GitHub repo for Week 3."
      ]
    },
    {
      "cell_type": "markdown",
      "metadata": {
        "id": "3yzyG0dGF_rD"
      },
      "source": [
        "## P6 – input()\n",
        "Example tasks with input and output."
      ]
    },
    {
      "cell_type": "code",
      "execution_count": 3,
      "metadata": {
        "colab": {
          "base_uri": "https://localhost:8080/"
        },
        "id": "UMB-E0MCFkJw",
        "outputId": "3dc1ea63-fc2a-4a69-b14f-0e22a75cfd46"
      },
      "outputs": [
        {
          "name": "stdout",
          "output_type": "stream",
          "text": [
            "Hello Utsav\n"
          ]
        }
      ],
      "source": [
        "# P6.1\n",
        "name = input('Enter your name: ')\n",
        "print('Hello', name)"
      ]
    },
    {
      "cell_type": "code",
      "execution_count": 4,
      "metadata": {
        "colab": {
          "base_uri": "https://localhost:8080/"
        },
        "id": "xzas_kCmGzhq",
        "outputId": "b62f2522-7242-42f5-f966-8c9556bc7d1f"
      },
      "outputs": [
        {
          "name": "stdout",
          "output_type": "stream",
          "text": [
            "1570621\n"
          ]
        }
      ],
      "source": [
        "# P6.2\n",
        "a, b = map(int, input().split())\n",
        "print(a*a + b*b)"
      ]
    },
    {
      "cell_type": "markdown",
      "metadata": {
        "id": "TOsjpR3_GZwp"
      },
      "source": [
        "## P7 – Lists"
      ]
    },
    {
      "cell_type": "code",
      "execution_count": 5,
      "metadata": {
        "colab": {
          "base_uri": "https://localhost:8080/"
        },
        "id": "XEW5ZJDLGdsc",
        "outputId": "c4ab5a5d-124e-4f68-a2bf-1d72eadae977"
      },
      "outputs": [
        {
          "name": "stdout",
          "output_type": "stream",
          "text": [
            "World\n"
          ]
        }
      ],
      "source": [
        "# P7.1\n",
        "my_list = ['Hello', 'World', 'Charles Darwin']\n",
        "print(my_list[1])"
      ]
    },
    {
      "cell_type": "code",
      "execution_count": 6,
      "metadata": {
        "colab": {
          "base_uri": "https://localhost:8080/"
        },
        "id": "ij9dRznAHH1k",
        "outputId": "0239dddf-74b1-4663-aadb-0112a17cac97"
      },
      "outputs": [
        {
          "name": "stdout",
          "output_type": "stream",
          "text": [
            "['Hello', 'World', 'Alfred R. Wallace']\n"
          ]
        }
      ],
      "source": [
        "# P7.2\n",
        "my_list[2] = 'Alfred R. Wallace'\n",
        "print(my_list)"
      ]
    },
    {
      "cell_type": "code",
      "execution_count": 7,
      "metadata": {
        "colab": {
          "base_uri": "https://localhost:8080/"
        },
        "id": "57xDhVjDHNhk",
        "outputId": "03367ea8-c510-4acb-90f7-9bf12555ee2b"
      },
      "outputs": [
        {
          "name": "stdout",
          "output_type": "stream",
          "text": [
            "['Hello', 'World', 'Alfred R. Wallace', 'Bioinformatics']\n"
          ]
        }
      ],
      "source": [
        "# P7.3\n",
        "my_list.append('Bioinformatics')\n",
        "print(my_list)"
      ]
    },
    {
      "cell_type": "code",
      "execution_count": 8,
      "metadata": {
        "colab": {
          "base_uri": "https://localhost:8080/"
        },
        "id": "-aCApwtZHR2N",
        "outputId": "26566e1b-e992-4f0e-a4f9-d27cb6b9958f"
      },
      "outputs": [
        {
          "name": "stdout",
          "output_type": "stream",
          "text": [
            "['Hello', 'Inserted Item', 'World', 'Alfred R. Wallace', 'Bioinformatics']\n"
          ]
        }
      ],
      "source": [
        "# P7.4\n",
        "my_list.insert(1, \"Inserted Item\")\n",
        "print(my_list)\n"
      ]
    },
    {
      "cell_type": "markdown",
      "metadata": {
        "id": "H3YRA1InIjRu"
      },
      "source": [
        "## P8 – Lists"
      ]
    },
    {
      "cell_type": "code",
      "execution_count": null,
      "metadata": {
        "colab": {
          "base_uri": "https://localhost:8080/"
        },
        "id": "8iAN9-MiIk7k",
        "outputId": "9a850daf-8d8b-4d1d-dbb9-52b12318df48"
      },
      "outputs": [
        {
          "name": "stdout",
          "output_type": "stream",
          "text": [
            "Hello World\n"
          ]
        }
      ],
      "source": [
        "# P8.1\n",
        "my_string = \"HelloWorldCharlesDarwinAlfred R. Wallace\"\n",
        "\n",
        "# Slice \"Hello World\"\n",
        "print(my_string[0:5], my_string[5:10])\n",
        "# Output: Hello World\n"
      ]
    },
    {
      "cell_type": "code",
      "execution_count": 15,
      "metadata": {
        "colab": {
          "base_uri": "https://localhost:8080/"
        },
        "id": "2vsfVlf1I1_d",
        "outputId": "e6ab54a2-8de9-45b2-8ccf-4a660d492ab3"
      },
      "outputs": [
        {
          "name": "stdout",
          "output_type": "stream",
          "text": [
            "Wallace World\n"
          ]
        }
      ],
      "source": [
        "# P8.2\n",
        "# Slice Wallace (from 33 to the end)\n",
        "part1 = my_string[33:]\n",
        "\n",
        "# Slice World (index 5 to 10)\n",
        "part2 = my_string[5:10]\n",
        "\n",
        "print(part1, part2)\n",
        "# Output: Wallace World\n"
      ]
    },
    {
      "cell_type": "code",
      "execution_count": 22,
      "metadata": {},
      "outputs": [
        {
          "name": "stdout",
          "output_type": "stream",
          "text": [
            "Cypselus truncatus\n"
          ]
        }
      ],
      "source": [
        "# P8.3\n",
        "# read input\n",
        "s = input().strip()\n",
        "a, b, c, d = map(int, input().split())\n",
        "\n",
        "# slice the string and include both ends\n",
        "part1 = s[a:b+1]\n",
        "part2 = s[c:d+1]\n",
        "\n",
        "# print with space in between\n",
        "print(part1, part2)\n"
      ]
    },
    {
      "cell_type": "markdown",
      "metadata": {},
      "source": [
        "## P9– Lists"
      ]
    },
    {
      "cell_type": "code",
      "execution_count": 13,
      "metadata": {
        "id": "63edwhJ3I5xd"
      },
      "outputs": [
        {
          "name": "stdout",
          "output_type": "stream",
          "text": [
            "Result: 5\n"
          ]
        }
      ],
      "source": [
        "# P9.1\n",
        "# two numbers\n",
        "a = 10\n",
        "b = 5\n",
        "\n",
        "# check condition\n",
        "if a == b:\n",
        "    result = a + b\n",
        "else:\n",
        "    result = a - b\n",
        "\n",
        "print(\"Result:\", result)\n"
      ]
    },
    {
      "cell_type": "code",
      "execution_count": 17,
      "metadata": {},
      "outputs": [
        {
          "name": "stdout",
          "output_type": "stream",
          "text": [
            "Counting!\n",
            "Counting!Counting!\n",
            "Counting!Counting!Counting!\n"
          ]
        }
      ],
      "source": [
        "# P10.1\n",
        "# while loop that runs 3 times\n",
        "a = 1\n",
        "while a <= 3:\n",
        "    print(\"Counting!\" * a)\n",
        "    a += 1   # very important, prevents infinite loop\n"
      ]
    },
    {
      "cell_type": "code",
      "execution_count": 18,
      "metadata": {},
      "outputs": [
        {
          "name": "stdout",
          "output_type": "stream",
          "text": [
            "Hello Alice\n",
            "Hello Bob\n",
            "Hello Charlie\n"
          ]
        }
      ],
      "source": [
        "# P11.1\n",
        "# list of names\n",
        "names = [\"Alice\", \"Bob\", \"Charlie\"]\n",
        "\n",
        "# loop over the list\n",
        "for name in names:\n",
        "    print(\"Hello\", name)\n"
      ]
    },
    {
      "cell_type": "code",
      "execution_count": 19,
      "metadata": {},
      "outputs": [
        {
          "name": "stdout",
          "output_type": "stream",
          "text": [
            "0\n",
            "1\n",
            "2\n",
            "3\n",
            "4\n",
            "5\n",
            "6\n",
            "7\n",
            "8\n",
            "9\n"
          ]
        }
      ],
      "source": [
        "# P12.1\n",
        "iterations = 10\n",
        "\n",
        "for number in range(iterations):\n",
        "    print(number)\n"
      ]
    },
    {
      "cell_type": "code",
      "execution_count": 20,
      "metadata": {},
      "outputs": [
        {
          "name": "stdout",
          "output_type": "stream",
          "text": [
            "9\n",
            "12\n",
            "15\n",
            "18\n",
            "21\n",
            "24\n",
            "27\n"
          ]
        }
      ],
      "source": [
        "# P12.2\n",
        "for number in range(9, 28, 3):\n",
        "    print(number)\n"
      ]
    },
    {
      "cell_type": "code",
      "execution_count": 21,
      "metadata": {},
      "outputs": [
        {
          "name": "stdout",
          "output_type": "stream",
          "text": [
            "13239600\n"
          ]
        }
      ],
      "source": [
        "# P12.3 Rosalind Problem #3 Conditions and Loops\n",
        "# read input\n",
        "a, b = map(int, input().split())\n",
        "\n",
        "# sum of odd numbers\n",
        "total = 0\n",
        "for n in range(a, b + 1):\n",
        "    if n % 2 == 1:   # check if odd\n",
        "        total += n\n",
        "\n",
        "print(total)\n"
      ]
    },
    {
      "cell_type": "code",
      "execution_count": 31,
      "metadata": {},
      "outputs": [
        {
          "name": "stdout",
          "output_type": "stream",
          "text": [
            "=== P13.1 read() output ===\n",
            "Bravely bold Sir Robin rode forth from Camelot\n",
            "Yes, brave Sir Robin turned about\n",
            "He was not afraid to die, O brave Sir Robin\n",
            "And gallantly he chickened out\n",
            "He was not at all afraid to be killed in nasty ways\n",
            "Bravely talking to his feet\n",
            "Brave, brave, brave, brave Sir Robin\n",
            "He beat a very brave retreat\n"
          ]
        }
      ],
      "source": [
        "# P13.1\n",
        "with open(\"content/practice.txt\", \"r\") as data:\n",
        "    whole = data.read()\n",
        "    print(\"=== P13.1 read() output ===\")\n",
        "    print(whole)"
      ]
    },
    {
      "cell_type": "code",
      "execution_count": 32,
      "metadata": {},
      "outputs": [
        {
          "name": "stdout",
          "output_type": "stream",
          "text": [
            "\n",
            "=== P13.2 sequence outputs ===\n",
            "[read()] -> 'Bravely bold Sir Robin rode forth from C...'\n",
            "[readline()] -> ''\n",
            "[readlines()] -> []\n"
          ]
        }
      ],
      "source": [
        "# P13.2\n",
        "with open(\"content/practice.txt\", \"r\") as data:\n",
        "    print(\"\\n=== P13.2 sequence outputs ===\")\n",
        "    first = data.read()        # consumes entire file\n",
        "    print(\"[read()] ->\", repr(first[:40] + (\"...\" if len(first) > 40 else \"\")))\n",
        "    second = data.readline()   # now at EOF -> empty string\n",
        "    print(\"[readline()] ->\", repr(second))\n",
        "    third = data.readlines()   # still EOF -> empty list\n",
        "    print(\"[readlines()] ->\", repr(third))"
      ]
    },
    {
      "cell_type": "code",
      "execution_count": 33,
      "metadata": {},
      "outputs": [
        {
          "name": "stdout",
          "output_type": "stream",
          "text": [
            "\n",
            "=== P14.1 joined output (original formatting) ===\n",
            "Bravely bold Sir Robin rode forth from Camelot\n",
            "Yes, brave Sir Robin turned about\n",
            "He was not afraid to die, O brave Sir Robin\n",
            "And gallantly he chickened out\n",
            "He was not at all afraid to be killed in nasty ways\n",
            "Bravely talking to his feet\n",
            "Brave, brave, brave, brave Sir Robin\n",
            "He beat a very brave retreat\n"
          ]
        }
      ],
      "source": [
        "# P14.1\n",
        "with open(\"content/practice.txt\", \"r\") as data:\n",
        "    list_of_lines = data.readlines()   # list of strings with trailing '\\n'\n",
        "\n",
        "# File is closed here; we can still use list_of_lines\n",
        "print(\"\\n=== P14.1 joined output (original formatting) ===\")\n",
        "print(\"\".join(list_of_lines))          # prints exactly like the input"
      ]
    },
    {
      "cell_type": "code",
      "execution_count": 34,
      "metadata": {},
      "outputs": [
        {
          "name": "stdout",
          "output_type": "stream",
          "text": [
            "Bravely bold Sir Robin rode forth from Camelot\n",
            "Yes, brave Sir Robin turned about\n",
            "He was not afraid to die, O brave Sir Robin\n",
            "And gallantly he chickened out\n",
            "He was not at all afraid to be killed in nasty ways\n",
            "Bravely talking to his feet\n",
            "Brave, brave, brave, brave Sir Robin\n",
            "He beat a very brave retreat\n"
          ]
        }
      ],
      "source": [
        "# P15.1\n",
        "with open(\"content/practice.txt\", \"r\") as data:\n",
        "    for line in data:\n",
        "        # remove the extra newline at the end of each line\n",
        "        print(line.rstrip())"
      ]
    },
    {
      "cell_type": "code",
      "execution_count": 36,
      "metadata": {},
      "outputs": [],
      "source": [
        "# P15.2\n",
        "# open input file for reading\n",
        "with open(\"input.txt\", \"r\") as f:\n",
        "    lines = f.readlines()\n",
        "\n",
        "# pick only even-numbered lines (1-based → index 1, 3, 5, …)\n",
        "even_lines = [lines[i] for i in range(1, len(lines), 2)]\n",
        "\n",
        "# write them to output.txt\n",
        "with open(\"output.txt\", \"w\") as f:\n",
        "    f.writelines(even_lines)\n"
      ]
    },
    {
      "cell_type": "code",
      "execution_count": 2,
      "metadata": {},
      "outputs": [
        {
          "name": "stdout",
          "output_type": "stream",
          "text": [
            "Bravely\n",
            "bold\n",
            "Sir\n",
            "Robin\n",
            "rode\n",
            "forth\n",
            "from\n",
            "Camelot\n",
            "Yes,\n",
            "brave\n",
            "Sir\n",
            "Robin\n",
            "turned\n",
            "about\n",
            "He\n",
            "was\n",
            "not\n",
            "afraid\n",
            "to\n",
            "die,\n",
            "O\n",
            "brave\n",
            "Sir\n",
            "Robin\n",
            "And\n",
            "gallantly\n",
            "he\n",
            "chickened\n",
            "out\n",
            "He\n",
            "was\n",
            "not\n",
            "at\n",
            "all\n",
            "afraid\n",
            "to\n",
            "be\n",
            "killed\n",
            "in\n",
            "nasty\n",
            "ways\n",
            "Bravely\n",
            "talking\n",
            "to\n",
            "his\n",
            "feet\n",
            "Brave,\n",
            "brave,\n",
            "brave,\n",
            "brave\n",
            "Sir\n",
            "Robin\n",
            "He\n",
            "beat\n",
            "a\n",
            "very\n",
            "brave\n",
            "retreat\n"
          ]
        }
      ],
      "source": [
        "# P16.1\n",
        "with open(\"content/practice.txt\", \"r\") as f:\n",
        "    for line in f:\n",
        "        # Split the line into words and loop over them\n",
        "        for word in line.split():\n",
        "            print(word)"
      ]
    },
    {
      "cell_type": "code",
      "execution_count": 3,
      "metadata": {},
      "outputs": [
        {
          "name": "stdout",
          "output_type": "stream",
          "text": [
            "{'seq1': 'ATGCGTAC', 'seq2': 'GGCTTACA', 'seq3': 'TTGACGGA', 'seq4': 'CCTAGGTA'}\n",
            "Sequence 2: GGCTTACA\n"
          ]
        }
      ],
      "source": [
        "# P17.1\n",
        "# Create a dictionary named sequences\n",
        "sequences = {\n",
        "    \"seq1\": \"ATGCGTAC\",\n",
        "    \"seq2\": \"GGCTTACA\",\n",
        "    \"seq3\": \"TTGACGGA\",\n",
        "    \"seq4\": \"CCTAGGTA\"\n",
        "}\n",
        "\n",
        "# Print the entire dictionary\n",
        "print(sequences)\n",
        "\n",
        "# Print a specific value (example: key \"seq2\")\n",
        "print(\"Sequence 2:\", sequences[\"seq2\"])\n"
      ]
    },
    {
      "cell_type": "code",
      "execution_count": 4,
      "metadata": {},
      "outputs": [
        {
          "name": "stdout",
          "output_type": "stream",
          "text": [
            ">H.neandertalensis\n",
            "ACGTCGCTCTGCTA\n",
            ">H.sapiens\n",
            "ACGTCACTCTGCTA\n",
            ">P.troglodytes\n",
            "ACGTCACTCTCCTA\n",
            ">G.gorilla\n",
            "ACGTCTCCTA\n",
            ">H.erectus\n",
            "ACGTCACTCTGCTA\n"
          ]
        }
      ],
      "source": [
        "# P18.1\n",
        "# dictionary of sequences\n",
        "sequences = {\n",
        "    \"H.neandertalensis\": \"ACGTCGCTCTGCTA\",\n",
        "    \"H.sapiens\": \"ACGTCACTCTGCTA\",\n",
        "    \"P.troglodytes\": \"ACGTCACTCTCCTA\",\n",
        "    \"G.gorilla\": \"ACGTCTCCTA\",\n",
        "    \"H.erectus\": \"ACGTCACTCTGCTA\"\n",
        "}\n",
        "\n",
        "# print in FASTA format\n",
        "for key, value in sequences.items():\n",
        "    print(\">\" + key)\n",
        "    print(value)\n"
      ]
    },
    {
      "cell_type": "code",
      "execution_count": 6,
      "metadata": {},
      "outputs": [
        {
          "name": "stdout",
          "output_type": "stream",
          "text": [
            "When 1\n",
            "I 2\n",
            "find 1\n",
            "myself 1\n",
            "in 4\n",
            "times 1\n",
            "of 11\n",
            "trouble 1\n",
            "Mother 2\n",
            "Mary 2\n",
            "comes 2\n",
            "to 3\n",
            "me 4\n",
            "Speaking 3\n",
            "words 7\n",
            "wisdom 7\n",
            "let 30\n",
            "it 36\n",
            "be 41\n",
            "And 3\n",
            "my 1\n",
            "hour 1\n",
            "darkness 1\n",
            "she 1\n",
            "is 4\n",
            "standing 1\n",
            "right 1\n",
            "front 1\n",
            "Let 6\n",
            "Whisper 4\n",
            "when 2\n",
            "the 4\n",
            "broken 1\n",
            "hearted 1\n",
            "people 1\n",
            "living 1\n",
            "world 1\n",
            "agree 1\n",
            "There 4\n",
            "will 5\n",
            "an 4\n",
            "answer 4\n",
            "For 1\n",
            "though 1\n",
            "they 2\n",
            "may 1\n",
            "parted 1\n",
            "there 2\n",
            "still 2\n",
            "a 2\n",
            "chance 1\n",
            "that 2\n",
            "see 1\n",
            "night 1\n",
            "cloudy 1\n",
            "light 1\n",
            "shines 1\n",
            "on 1\n",
            "Shine 1\n",
            "until 1\n",
            "tomorrow 1\n",
            "wake 1\n",
            "up 1\n",
            "sound 1\n",
            "music 1\n",
            "yeah 2\n"
          ]
        }
      ],
      "source": [
        "# P18.2\n",
        "# input string\n",
        "s = \"\"\"When I find myself in times of trouble Mother Mary comes to me Speaking words of wisdom let it be\n",
        "And in my hour of darkness she is standing right in front of me Speaking words of wisdom let it be\n",
        "Let it be let it be let it be let it be Whisper words of wisdom let it be\n",
        "And when the broken hearted people living in the world agree There will be an answer let it be\n",
        "For though they may be parted there is still a chance that they will see There will be an answer let it be\n",
        "Let it be let it be let it be let it be There will be an answer let it be\n",
        "Let it be let it be let it be let it be Whisper words of wisdom let it be\n",
        "Let it be let it be let it be let it be Whisper words of wisdom let it be\n",
        "And when the night is cloudy there is still a light that shines on me Shine until tomorrow let it be\n",
        "I wake up to the sound of music Mother Mary comes to me Speaking words of wisdom let it be\n",
        "Let it be let it be let it be yeah let it be There will be an answer let it be\n",
        "Let it be let it be let it be yeah let it be Whisper words of wisdom let it be\"\"\"\n",
        "\n",
        "# create empty dictionary\n",
        "counts = {}\n",
        "\n",
        "# split string into words (default split handles spaces and newlines)\n",
        "for word in s.split():\n",
        "    if word in counts:\n",
        "        counts[word] += 1\n",
        "    else:\n",
        "        counts[word] = 1\n",
        "\n",
        "# print results\n",
        "for key, value in counts.items():\n",
        "    print(key, value)\n",
        "\n"
      ]
    },
    {
      "cell_type": "code",
      "execution_count": null,
      "metadata": {},
      "outputs": [],
      "source": []
    }
  ],
  "metadata": {
    "colab": {
      "provenance": []
    },
    "kernelspec": {
      "display_name": "Python 3",
      "name": "python3"
    },
    "language_info": {
      "codemirror_mode": {
        "name": "ipython",
        "version": 3
      },
      "file_extension": ".py",
      "mimetype": "text/x-python",
      "name": "python",
      "nbconvert_exporter": "python",
      "pygments_lexer": "ipython3",
      "version": "3.13.1"
    }
  },
  "nbformat": 4,
  "nbformat_minor": 0
}
